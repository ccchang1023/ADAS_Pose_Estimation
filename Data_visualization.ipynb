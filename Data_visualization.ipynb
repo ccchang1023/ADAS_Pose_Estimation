{
 "cells": [
  {
   "cell_type": "code",
   "execution_count": 1,
   "metadata": {},
   "outputs": [],
   "source": [
    "import os, time\n",
    "import numpy as np\n",
    "import torch\n",
    "from torchvision import transforms, datasets\n",
    "from torch.utils.data import DataLoader, Dataset\n",
    "from PIL import Image\n",
    "import cv2\n",
    "import matplotlib.pyplot as plt\n",
    "import pandas as pd\n",
    "from torchsummary import summary\n",
    "device = \"cuda\""
   ]
  },
  {
   "cell_type": "code",
   "execution_count": 2,
   "metadata": {},
   "outputs": [
    {
     "name": "stdout",
     "output_type": "stream",
     "text": [
      "4257\n"
     ]
    }
   ],
   "source": [
    "from sklearn.utils import shuffle\n",
    "df = pd.read_csv(\"./dataset/train.csv\")\n",
    "broken_list = []\n",
    "broken_list.append(df.loc[df['ImageId'] == 'ID_1a5a10365'].index)\n",
    "broken_list.append(df.loc[df['ImageId'] == 'ID_4d238ae90'].index)\n",
    "broken_list.append(df.loc[df['ImageId'] == 'ID_408f58e9f'].index)\n",
    "broken_list.append(df.loc[df['ImageId'] == 'ID_bb1d991f6'].index)\n",
    "broken_list.append(df.loc[df['ImageId'] == 'ID_c44983aeb'].index)\n",
    "\n",
    "for idx in broken_list:\n",
    "    df = df.drop(idx)\n",
    "print(len(df))\n",
    "# df = shuffle(df)\n",
    "df.to_csv(\"./dataset/train_shuf_remove.csv\")\n"
   ]
  },
  {
   "cell_type": "markdown",
   "metadata": {},
   "source": [
    "# Ignore Mask cleaning"
   ]
  },
  {
   "cell_type": "code",
   "execution_count": null,
   "metadata": {},
   "outputs": [],
   "source": [
    "def CreateMaskImages(dir_path,image_Name):\n",
    "    train_image = cv2.imread(\"{}_images/{}.jpg\".format(dir_path,image_Name))\n",
    "    if not os.path.isfile(\"{}_masks/{}.jpg\".format(dir_path,image_Name)):\n",
    "        return train_image\n",
    "    image_mask = cv2.imread(\"{}_masks/{}.jpg\".format(dir_path,image_Name),0)\n",
    "    image_mask = image_mask//200*255\n",
    "#     image_mask = np.ceil((image_mask//255))*255\n",
    "#     image_mask = np.array(image_mask,dtype=np.uint8)\n",
    "\n",
    "#     print(np.max(image_mask),np.min(image_mask))\n",
    "\n",
    "    image_mask_inv = cv2.bitwise_not(image_mask)\n",
    "    res = cv2.bitwise_and(train_image,train_image,mask = image_mask_inv)\n",
    "    #cut upper half,because it doesn't contain cars.\n",
    "#     res = res[res.shape[0] // 2:]\n",
    "    return res\n",
    "    \n",
    "train_pd = pd.read_csv(\"./dataset/train_shuf_remove.csv\")\n",
    "train_dir = \"./dataset/train\"\n",
    "data_len = len(train_pd)\n",
    "\n",
    "for idx in range(0,data_len):\n",
    "    if idx%500==0:\n",
    "        print(\"idx:\",idx)\n",
    "    file_name = train_pd['ImageId'].iloc[idx]\n",
    "    res = CreateMaskImages(train_dir,file_name)\n",
    "    cv2.imwrite(\"./dataset/masked_train/\" + file_name + \".jpg\", res)\n",
    "\n",
    "    \n",
    "test_pd = pd.read_csv(\"./dataset/sample_submission.csv\")\n",
    "test_dir = \"./dataset/test\"\n",
    "data_len = len(test_pd)\n",
    "\n",
    "for idx in range(0,data_len):\n",
    "    if idx%500==0:\n",
    "        print(\"idx:\",idx)\n",
    "    file_name = test_pd['ImageId'].iloc[idx]\n",
    "    res = CreateMaskImages(test_dir,file_name)\n",
    "    cv2.imwrite(\"./dataset/masked_test/\" + file_name + \".jpg\", res)\n",
    "    "
   ]
  },
  {
   "cell_type": "markdown",
   "metadata": {},
   "source": [
    "# Inference on val dataset for calculating mAp"
   ]
  },
  {
   "cell_type": "code",
   "execution_count": null,
   "metadata": {},
   "outputs": [],
   "source": [
    "# ths = [0,-0.05,-0.1,-0.15,-0.2]\n",
    "ths = [0,-1]\n",
    "model = CentResnet(8)\n",
    "model.cuda()\n",
    "# model.load_state_dict(torch.load(\"./saved_model/res50_vr0.05_imgaugv2/Ep7_loss8.9245\"))\n",
    "model.load_state_dict(torch.load(\"./saved_model/res34_vr0.01/Ep5_loss8.5530\"))\n",
    "model.eval()\n",
    "val_pd = pd.read_csv(\"./dataset/train_shuf_remove.csv\")\n",
    "vr = 0.01\n",
    "print(len(val_pd))\n",
    "val_pd = val_pd[int(len(val_pd)*(1-vr)):]\n",
    "print(len(val_pd))"
   ]
  },
  {
   "cell_type": "code",
   "execution_count": null,
   "metadata": {},
   "outputs": [],
   "source": [
    "for threshold in ths:\n",
    "    predictions = []\n",
    "    indices_len = len(val_pd)\n",
    "    print(\"indices_len\",indices_len)\n",
    "#     val_dataset = ADDataset(data_len=indices_len,is_validate=True,validate_rate=vr,indices=indices)\n",
    "#     val_loader = DataLoader(val_dataset, batch_size=batch_size, shuffle=False, num_workers=num_workers)\n",
    "    with torch.no_grad():\n",
    "        for img,_,_ in tqdm(val_loader):\n",
    "            img = img.to(device)\n",
    "            output = model(img).cpu().numpy()\n",
    "            for out in output:\n",
    "                coords = extract_coords(out,logits_thresh=threshold)\n",
    "                s = coords2str(coords)\n",
    "                predictions.append(s)\n",
    "\n",
    "    print(np.shape(predictions))\n",
    "    val_pd['PredictionString']= predictions\n",
    "    file_name = \"val_pred_th{}.csv\".format(threshold)\n",
    "    val_pd.to_csv(file_name, index=False)\n",
    "    val_pd.head()        "
   ]
  },
  {
   "cell_type": "markdown",
   "metadata": {},
   "source": [
    "# mAP calculating"
   ]
  },
  {
   "cell_type": "code",
   "execution_count": 3,
   "metadata": {
    "jupyter": {
     "source_hidden": true
    }
   },
   "outputs": [],
   "source": [
    "import numpy as np # linear algebra\n",
    "import pandas as pd # data processing, CSV file I/O (e.g. pd.read_csv)\n",
    "from math import sqrt, acos, pi, sin, cos\n",
    "from scipy.spatial.transform import Rotation as R\n",
    "from sklearn.metrics import average_precision_score\n",
    "from sklearn.metrics import precision_recall_curve\n",
    "# from inspect import signature\n",
    "import matplotlib.pyplot as plt\n",
    "from multiprocessing import Pool\n",
    "\n",
    "def expand_df(df, PredictionStringCols):\n",
    "    df = df.dropna().copy()\n",
    "    df['NumCars'] = [int((x.count(' ')+1)/7) for x in df['PredictionString']]\n",
    "\n",
    "    image_id_expanded = [item for item, count in zip(df['ImageId'], df['NumCars']) for i in range(count)]\n",
    "    prediction_strings_expanded = df['PredictionString'].str.split(' ',expand = True).values.reshape(-1,7).astype(float)\n",
    "    prediction_strings_expanded = prediction_strings_expanded[~np.isnan(prediction_strings_expanded).all(axis=1)]\n",
    "    df = pd.DataFrame(\n",
    "        {\n",
    "            'ImageId': image_id_expanded,\n",
    "            PredictionStringCols[0]:prediction_strings_expanded[:,0],\n",
    "            PredictionStringCols[1]:prediction_strings_expanded[:,1],\n",
    "            PredictionStringCols[2]:prediction_strings_expanded[:,2],\n",
    "            PredictionStringCols[3]:prediction_strings_expanded[:,3],\n",
    "            PredictionStringCols[4]:prediction_strings_expanded[:,4],\n",
    "            PredictionStringCols[5]:prediction_strings_expanded[:,5],\n",
    "            PredictionStringCols[6]:prediction_strings_expanded[:,6]\n",
    "        })\n",
    "    return df\n",
    "\n",
    "def str2coords(s, names):\n",
    "    coords = []\n",
    "    for l in np.array(s.split()).reshape([-1, 7]):\n",
    "        coords.append(dict(zip(names, l.astype('float'))))\n",
    "    return coords\n",
    "\n",
    "def TranslationDistance(p,g, abs_dist = False):\n",
    "    dx = p['x'] - g['x']\n",
    "    dy = p['y'] - g['y']\n",
    "    dz = p['z'] - g['z']\n",
    "    diff0 = (g['x']**2 + g['y']**2 + g['z']**2)**0.5\n",
    "    diff1 = (dx**2 + dy**2 + dz**2)**0.5\n",
    "    if abs_dist:\n",
    "        diff = diff1\n",
    "    else:\n",
    "        diff = diff1/diff0\n",
    "    return diff\n",
    "\n",
    "def RotationDistance(p, g):\n",
    "    true=[ g['pitch'] ,g['yaw'] ,g['roll'] ]\n",
    "    pred=[ p['pitch'] ,p['yaw'] ,p['roll'] ]\n",
    "    q1 = R.from_euler('xyz', true)\n",
    "    q2 = R.from_euler('xyz', pred)\n",
    "    diff = R.inv(q2) * q1\n",
    "    W = np.clip(diff.as_quat()[-1], -1., 1.)\n",
    "    \n",
    "    # in the official metrics code:\n",
    "    # https://www.kaggle.com/c/pku-autonomous-driving/overview/evaluation\n",
    "    #   return Object3D.RadianToDegree( Math.Acos(diff.W) )\n",
    "    # this code treat θ and θ+2π differntly.\n",
    "    # So this should be fixed as follows.\n",
    "    W = (acos(W)*360)/pi\n",
    "    if W > 180:\n",
    "        W = 360 - W\n",
    "    return W\n",
    "\n",
    "def print_pr_curve(result_flg, scores, recall_total=1):\n",
    "    average_precision = average_precision_score(result_flg, scores)\n",
    "    precision, recall, _ = precision_recall_curve(result_flg, scores)\n",
    "    recall *= recall_total\n",
    "    plt.step(recall, precision, color='b', alpha=0.2, where='post')\n",
    "    plt.fill_between(recall, precision, alpha=0.2, color='b')\n",
    "    plt.xlabel('Recall')\n",
    "    plt.ylabel('Precision')\n",
    "    plt.ylim([0.0, 1.05])\n",
    "    plt.xlim([0.0, 1.0])\n",
    "    plt.show()\n",
    "    \n",
    "    \n",
    "###TP,FP calculating    \n",
    "thres_tr_list = [0.1, 0.09, 0.08, 0.07, 0.06, 0.05, 0.04, 0.03, 0.02, 0.01]\n",
    "thres_ro_list = [50, 45, 40, 35, 30, 25, 20, 15, 10, 5]\n",
    "def check_match(idx,train_df,valid_df):\n",
    "    keep_gt=False\n",
    "    thre_tr_dist = thres_tr_list[idx]\n",
    "    thre_ro_dist = thres_ro_list[idx]\n",
    "    train_dict = {imgID:str2coords(s, names=['carid_or_score', 'pitch', 'yaw', 'roll', 'x', 'y', 'z']) for imgID,s in zip(train_df['ImageId'],train_df['PredictionString'])}\n",
    "    valid_dict = {imgID:str2coords(s, names=['pitch', 'yaw', 'roll', 'x', 'y', 'z', 'carid_or_score']) for imgID,s in zip(valid_df['ImageId'],valid_df['PredictionString'])}\n",
    "    result_flg = [] # 1 for TP, 0 for FP\n",
    "    scores = []\n",
    "    MAX_VAL = 10**10\n",
    "    for img_id in valid_dict:\n",
    "        for pcar in sorted(valid_dict[img_id], key=lambda x: -x['carid_or_score']):\n",
    "            # find nearest GT\n",
    "            min_tr_dist = MAX_VAL\n",
    "            min_idx = -1\n",
    "            for idx, gcar in enumerate(train_dict[img_id]):\n",
    "                tr_dist = TranslationDistance(pcar,gcar)\n",
    "                if tr_dist < min_tr_dist:\n",
    "                    min_tr_dist = tr_dist\n",
    "                    min_ro_dist = RotationDistance(pcar,gcar)\n",
    "                    min_idx = idx\n",
    "                    \n",
    "            # set the result\n",
    "            if min_tr_dist < thre_tr_dist and min_ro_dist < thre_ro_dist:\n",
    "                if not keep_gt:\n",
    "                    train_dict[img_id].pop(min_idx)\n",
    "                result_flg.append(1)\n",
    "            else:\n",
    "                result_flg.append(0)\n",
    "            scores.append(pcar['carid_or_score'])\n",
    "    \n",
    "    return result_flg, scores    \n"
   ]
  },
  {
   "cell_type": "code",
   "execution_count": 9,
   "metadata": {
    "jupyter": {
     "source_hidden": true
    }
   },
   "outputs": [],
   "source": [
    "def calculate_mAp(val_file_name):\n",
    "    valid_df = pd.read_csv(val_file_name)\n",
    "    expanded_valid_df = expand_df(valid_df, ['pitch','yaw','roll','x','y','z','Score'])\n",
    "    valid_df = valid_df.fillna('')\n",
    "    train_df = pd.read_csv('./dataset/train_shuf_remove.csv')    \n",
    "    train_df = train_df[train_df.ImageId.isin(valid_df.ImageId.unique())]\n",
    "\n",
    "    # data description page says, The pose information is formatted as\n",
    "    # model type, yaw, pitch, roll, x, y, z\n",
    "    # but it doesn't, and it should be\n",
    "    # model type, pitch, yaw, roll, x, y, z\n",
    "    expanded_train_df = expand_df(train_df, ['model_type','pitch','yaw','roll','x','y','z'])\n",
    "\n",
    "    n_gt = len(expanded_train_df)\n",
    "    ap_list = []\n",
    "    for i in range(10):\n",
    "        result_flg, scores = check_match(i,train_df,valid_df)\n",
    "        if np.sum(result_flg) > 0:\n",
    "            n_tp = np.sum(result_flg)\n",
    "            recall = n_tp/n_gt\n",
    "            ap = average_precision_score(result_flg, scores)*recall\n",
    "    #         print_pr_curve(result_flg, scores, recall)\n",
    "        else:\n",
    "            ap = 0\n",
    "        ap_list.append(ap)\n",
    "    mAp = np.mean(ap_list)\n",
    "#     print('map:', map)\n",
    "    return mAp"
   ]
  },
  {
   "cell_type": "code",
   "execution_count": null,
   "metadata": {
    "jupyter": {
     "source_hidden": true
    }
   },
   "outputs": [],
   "source": [
    "val_root = './tmp_val_files_res34'\n",
    "for file_name in os.listdir(val_root):\n",
    "    if file_name.find('val')==-1:\n",
    "        continue\n",
    "    mAp = calculate_mAp(\"{}/{}\".format(val_root,file_name))\n",
    "    print(\"File:{}, mAp:{}\".format(file_name,mAp))\n",
    "    \n",
    "# File:val_pred_th-0.05.csv, mAp:0.08649828065365775\n",
    "# File:val_pred_th-0.1.csv, mAp:0.08747285847558277\n",
    "# File:val_pred_th-0.15.csv, mAp:0.08800964404151594\n",
    "# File:val_pred_th-0.2.csv, mAp:0.0892720989062064\n",
    "# File:val_pred_th-0.25.csv, mAp:0.090172810018739\n",
    "# File:val_pred_th-0.3.csv, mAp:0.09107042738930553\n",
    "# File:val_pred_th-1.csv, mAp:0.0996630598935023\n",
    "# File:val_pred_th0.csv, mAp:0.08567564132050562    "
   ]
  },
  {
   "cell_type": "markdown",
   "metadata": {},
   "source": [
    "# Visualize image"
   ]
  },
  {
   "cell_type": "code",
   "execution_count": null,
   "metadata": {},
   "outputs": [],
   "source": [
    "global_data = pd.read_csv(\"./dataset/critic01_20k.csv\")"
   ]
  },
  {
   "cell_type": "code",
   "execution_count": null,
   "metadata": {},
   "outputs": [],
   "source": [
    "for idx in range(0,100):\n",
    "\n",
    "    i = idx\n",
    "    img = global_data.iloc[i, 1:].values.astype(np.uint8).reshape((28, 28))  #value: 0~255\n",
    "    img = Image.fromarray(img)\n",
    "    label = global_data.iloc[i, 0]\n",
    "    \n",
    "    if i%10==0:\n",
    "        plt.pause(.1)\n",
    "        fig, axes = plt.subplots(1,10,figsize=(16,2))\n",
    "    axes[i%10].imshow(img,cmap=\"gray\")\n",
    "    \n",
    "    #     img = trans(img).cpu().numpy().reshape(28,28)\n",
    "    #     img = transforms.functional.adjust_brightness(img, 0.01)\n",
    "    #     img = transforms.functional.adjust_contrast(img, 0.01)\n",
    "    #     img = transforms.functional.adjust_saturation(img, 5)\n",
    "#         axes[j][1].imshow(img,cmap=\"gray\")\n",
    "    \n",
    "#     img = global_data_dig.iloc[i, 1:].values.astype(np.uint8).reshape((28, 28))  #value: 0~255\n",
    "#     img = Image.fromarray(img)\n",
    "#     label = global_data_dig.iloc[i, 0]\n",
    "#     axes[2].imshow(img,cmap=\"gray\")\n",
    "#     img = trans(img).cpu().numpy().reshape(28,28)\n",
    "#     axes[3].imshow(img,cmap=\"gray\")\n",
    "    \n",
    "\n",
    "    print(\"Label:\",label)\n",
    "\n",
    "# data.head(5)"
   ]
  },
  {
   "cell_type": "code",
   "execution_count": 171,
   "metadata": {},
   "outputs": [
    {
     "name": "stdout",
     "output_type": "stream",
     "text": [
      "              precision    recall  f1-score   support\n",
      "\n",
      "         0.0     0.9284    0.8232    0.8727      1024\n",
      "         1.0     0.9289    0.9180    0.9234      1024\n",
      "         2.0     0.8619    0.9814    0.9178      1024\n",
      "         3.0     0.9672    0.8359    0.8968      1024\n",
      "         4.0     0.9714    0.9619    0.9666      1024\n",
      "         5.0     0.9685    0.9619    0.9652      1024\n",
      "         6.0     0.7804    0.8848    0.8293      1024\n",
      "         7.0     0.8542    0.8184    0.8359      1024\n",
      "         8.0     0.9722    0.9580    0.9651      1024\n",
      "         9.0     0.8758    0.9297    0.9019      1024\n",
      "\n",
      "    accuracy                         0.9073     10240\n",
      "   macro avg     0.9109    0.9073    0.9075     10240\n",
      "weighted avg     0.9109    0.9073    0.9075     10240\n",
      "\n"
     ]
    },
    {
     "data": {
      "text/plain": [
       "Text(0.5, 69.0, 'Predicted label')"
      ]
     },
     "execution_count": 171,
     "metadata": {},
     "output_type": "execute_result"
    },
    {
     "data": {
      "image/png": "[encoded data removed]",
      "text/plain": [
       "<Figure size 720x720 with 2 Axes>"
      ]
     },
     "metadata": {
      "needs_background": "light"
     },
     "output_type": "display_data"
    }
   ],
   "source": [
    "import seaborn as sn\n",
    "from sklearn.metrics import confusion_matrix, accuracy_score, classification_report\n",
    "\n",
    "###Confusion matrix\n",
    "print(classification_report(labels, result,digits=4))\n",
    "plt.figure(figsize=(10,10))\n",
    "confusion_mat = confusion_matrix(labels, result)\n",
    "sn.heatmap(confusion_mat, annot=True, cmap='YlGnBu',fmt=\"d\",linewidths=.5, linecolor='w')\n",
    "plt.title('Confusion matrix - DIG-MNIST dataset')\n",
    "plt.ylabel('True label')\n",
    "plt.xlabel('Predicted label')\n"
   ]
  },
  {
   "cell_type": "code",
   "execution_count": null,
   "metadata": {},
   "outputs": [],
   "source": [
    "# indices1 = np.where(result!=labels)[0]       #(num)\n",
    "# indices2 = np.where(result_dig!=labels)[0]\n",
    "# indices3 = np.where((result!=labels)&(result_dig==labels))[0]\n",
    "indices4 = np.where((result[:,0]==labels))[0]\n",
    "indices5 = np.where((result[:,0]==labels)|(result[:,1]==labels))[0]\n",
    "indices6 = np.where((result[:,0]==labels)|(result[:,1]==labels)|(result[:,2]==labels))[0]\n",
    "\n",
    "cirtic_idx_list_ans0 = []\n",
    "idx_list_ans1 = []\n",
    "\n",
    "cirtic_idx_list_ans9 = []\n",
    "label_list = []\n",
    "count = 0\n",
    "\n",
    "data_num = len(labels)\n",
    "print(\"top1 acc:\",len(indices4)/data_num)\n",
    "print(\"top2 acc:\",len(indices5)/data_num)\n",
    "print(\"top3 acc:\",len(indices6)/data_num)\n",
    "stop\n",
    "\n",
    "for i in range(0,len(indices1)):\n",
    "    idx = indices1[i]\n",
    "#     img1 = global_dig.iloc[idx, 1:].values.astype(np.uint8).reshape((28, 28))  #value: 0~255\n",
    "#     img1 = global_pseudo_data.iloc[idx, 1:].values.astype(np.uint8).reshape((28, 28))  #value: 0~255\n",
    "    img1 = global_data.iloc[idx, 1:].values.astype(np.uint8).reshape((28, 28))  #value: 0~255\n",
    "    img1 = Image.fromarray(img1)\n",
    "    label1 = result[idx]\n",
    "#     label2 = result_dig[idx]\n",
    "    label2 = None\n",
    "    label = labels[idx]\n",
    "  \n",
    "\n",
    "#     if label == 0:\n",
    "#         fig, axes = plt.subplots(1,1,figsize=(2,2))\n",
    "# #         cirtic_idx_list_ans0.append(idx)\n",
    "#         axes.imshow(img1,cmap=\"gray\")\n",
    "#         print(idx)\n",
    "#         print(\"Model:\",label1,\" Model2:\",label2,\" Label:\",label)\n",
    "#         plt.pause(.1)\n",
    "#     else:\n",
    "#         continue\n",
    "        \n",
    "\n",
    "# print(idx_list_ans1)\n",
    "# np.save(\"idx_ans1\",idx_list_ans1)\n",
    "\n",
    "# print(cirtic_idx_list_ans0)\n",
    "# print(cirtic_idx_list_ans9)\n",
    "\n",
    "cirtic_idx_list_ans0_v2 = [5520,6150,12280,18560,32730]\n",
    "np.save(\"critic_idx_ans0_v2\",cirtic_idx_list_ans0_v2)\n",
    "\n",
    "# plt.figure(figsize=(8,4))\n",
    "# data = np.uint8(cirtic_label_list)\n",
    "# print(len(data))\n",
    "# plt.hist(data ,density=0,align=\"mid\",bins=10,rwidth=1)\n",
    "# plt.xticks(range(10))\n",
    "# plt.ylabel('frequency')\n",
    "\n",
    "# plt.figure(figsize=(8,4))\n",
    "# data = np.uint8(label_list)\n",
    "# print(len(data))\n",
    "# plt.hist(data ,density=0,align=\"mid\",bins=10,rwidth=1)\n",
    "# plt.xticks(range(10))\n",
    "# plt.ylabel('frequency')\n",
    "\n",
    "\n",
    "# 31 1 0 59969"
   ]
  }
 ],
 "metadata": {
  "kernelspec": {
   "display_name": "Python 3",
   "language": "python",
   "name": "python3"
  },
  "language_info": {
   "codemirror_mode": {
    "name": "ipython",
    "version": 3
   },
   "file_extension": ".py",
   "mimetype": "text/x-python",
   "name": "python",
   "nbconvert_exporter": "python",
   "pygments_lexer": "ipython3",
   "version": "3.6.9"
  }
 },
 "nbformat": 4,
 "nbformat_minor": 4
}
